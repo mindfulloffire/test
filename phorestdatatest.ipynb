{
 "cells": [
  {
   "cell_type": "code",
   "execution_count": 2,
   "metadata": {},
   "outputs": [],
   "source": [
    "import numpy as np\n",
    "import pandas as pd\n",
    "from sqlalchemy import create_engine\n",
    "\n",
    "\n",
    "cols=['id','first_name','last_name','gender','mobile','sms_marketing_optout','land_line','email','street_address1','street_address2','city','country','zip','birth_date','client_since','source_id','notes','email_marketing_optout','deleted','archived']\n",
    "\n",
    "\n",
    "engine = create_engine('sqlite://', echo=False)\n",
    "\n",
    "df=pd.read_csv('PHORESTTESTDB.csv', index_col='id',parse_dates=True, dayfirst=True, usecols=cols, na_filter=False)\n",
    "\n",
    "\n",
    "\n",
    "df=df[df.deleted != 1]\n",
    "\n",
    "df=df[df.archived != 1]\n",
    "\n",
    "\n",
    "consent={0:'Y',1:'N'}\n",
    "\n",
    "df['email_consent']=df.email_marketing_optout.map(consent)\n",
    "df['SMS_consent']=df.sms_marketing_optout.map(consent)\n",
    "\n",
    "\n",
    "\n",
    "\n",
    "df=df[['first_name','last_name','gender','mobile','SMS_consent','land_line','email','street_address1','street_address2','city','country','zip','birth_date','client_since','source_id','notes','email_consent']]\n",
    "\n",
    "\n",
    "df['client_since']=pd.to_datetime(df['client_since']).apply(lambda x: x.date())\n",
    "df['birth_date']=pd.to_datetime(df['birth_date']).apply(lambda x: x.date())\n",
    "\n",
    "\n",
    "\n",
    "\n",
    "\n",
    "\n",
    "df.to_sql('clients', con = engine)\n",
    "\n",
    "df=df.rename(index=str, columns={'street_address1':'Address1','street_address2':'Address2','zip':'POSTCODE'})\n",
    "\n",
    "engine.execute(\"SELECT * FROM clients\").fetchall()\n",
    "\n",
    "df.to_excel('phorestclientsfinal.xlsx')\n"
   ]
  },
  {
   "cell_type": "code",
   "execution_count": null,
   "metadata": {},
   "outputs": [],
   "source": []
  }
 ],
 "metadata": {
  "kernelspec": {
   "display_name": "Python 3",
   "language": "python",
   "name": "python3"
  },
  "language_info": {
   "codemirror_mode": {
    "name": "ipython",
    "version": 3
   },
   "file_extension": ".py",
   "mimetype": "text/x-python",
   "name": "python",
   "nbconvert_exporter": "python",
   "pygments_lexer": "ipython3",
   "version": "3.6.5"
  }
 },
 "nbformat": 4,
 "nbformat_minor": 2
}
